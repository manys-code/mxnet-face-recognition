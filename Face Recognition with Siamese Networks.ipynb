{
 "cells": [
  {
   "cell_type": "markdown",
   "metadata": {},
   "source": [
    "# Face Recognition with Siamese Networks\n",
    "\n",
    "In this notebook, we'll implement a simple siamese network for a face recognition application. As our dataset, we'll use the *ORL Database of Faces* (kindly available <a href=\"https://www.cl.cam.ac.uk/research/dtg/attarchive/facedatabase.html\">here</a>). \n",
    "\n",
    "A siamese network finds to learn a feature representation where similar datapoints are near given an energy function $E$ and dissimilar samples are separated. For this, we need a loss function which represents such representation. This kind of loss functions are called *distance-based loss functions*. In this case, we'll use the *contrastive loss*. \n",
    "\n",
    "This requires a new set of prerequisites. Our dataset needs a special configuration in duples labeled as *genuine* if the pairs are from the same identity or *imposite* otherwise. Therefore, is training sample has the shape $((X_1, X_2), Y)$ where $Y \\in {0, 1}$ for genuine and imposite, respectively.\n",
    "\n",
    "Now that we have a set of tasks, let's get started!"
   ]
  },
  {
   "cell_type": "code",
   "execution_count": 1,
   "metadata": {},
   "outputs": [],
   "source": [
    "import os\n",
    "import zipfile\n",
    "\n",
    "import matplotlib.pyplot as plt\n",
    "\n",
    "from mxnet import autograd, init, gluon, nd, context as ctx\n",
    "from mxnet.gluon import nn, data as gdata\n",
    "from PIL import Image"
   ]
  },
  {
   "cell_type": "code",
   "execution_count": 2,
   "metadata": {},
   "outputs": [],
   "source": [
    "plt.style.use([\"seaborn-notebook\"])"
   ]
  },
  {
   "cell_type": "code",
   "execution_count": 3,
   "metadata": {},
   "outputs": [],
   "source": [
    "def try_gpu(i=0):\n",
    "    return ctx.gpu(i) if ctx.num_gpus() > i else ctx.cpu() "
   ]
  },
  {
   "cell_type": "markdown",
   "metadata": {},
   "source": [
    "## Preparing the Dataset\n",
    "\n",
    "We start by downloading the dataset and process it to fit in our network. First, we define some constants to prepare the data. "
   ]
  },
  {
   "cell_type": "code",
   "execution_count": 4,
   "metadata": {},
   "outputs": [],
   "source": [
    "DATA_PATH = os.path.join(\"data\", \"orl_faces\")\n",
    "SAMPLE_SIZE = 20000\n",
    "BATCH_SIZE = 32\n",
    "VALID_SIZE = 0.2"
   ]
  },
  {
   "cell_type": "markdown",
   "metadata": {},
   "source": [
    "Then, we download the dataset from the website as a ZIP and extract the data into `DATA_PATH`"
   ]
  },
  {
   "cell_type": "code",
   "execution_count": 5,
   "metadata": {},
   "outputs": [],
   "source": [
    "URL = \"http://www.cl.cam.ac.uk/Research/DTG/attarchive/pub/data/att_faces.zip\"\n",
    "download_path = gluon.utils.download(URL)\n",
    "\n",
    "with zipfile.ZipFile(download_path, \"r\") as zp:\n",
    "    zp.extractall(DATA_PATH)"
   ]
  },
  {
   "cell_type": "markdown",
   "metadata": {},
   "source": [
    "Each image is in `pgm` format, which isn't readable directly by MXNet. However, we can load it with PIL and then convert it to NDArray format. Also, we might want to perform some image transformation, such as rescale or augmentations, therefore we pass the image through such transform. The `imread` function implements such behaviour."
   ]
  },
  {
   "cell_type": "code",
   "execution_count": 6,
   "metadata": {},
   "outputs": [],
   "source": [
    "def imread(filepath, transform):\n",
    "    img = nd.array(Image.open(filepath)).expand_dims(axis=2)\n",
    "    return transform(img)"
   ]
  },
  {
   "cell_type": "markdown",
   "metadata": {},
   "source": [
    "We need to generate **genuine pairs** and **imposite pairs** with a binary label. Let's encapsulate this into a function."
   ]
  },
  {
   "cell_type": "code",
   "execution_count": 7,
   "metadata": {},
   "outputs": [],
   "source": [
    "def get_orl_faces(size, total_sample_size, transform):\n",
    "    # Read a single image to extract image properties.\n",
    "    _img = imread(os.path.join(DATA_PATH, \"s1\", \"1.pgm\"), transform)\n",
    "    height, width = _img.shape[1:]\n",
    "    \n",
    "    #= Generating genuine pairs =#\n",
    "    # Now we generate a genuine tensor with shape [total_sample_size, size, channels, height, width]\n",
    "    X_genuine = nd.zeros([total_sample_size, size, 1, height, width])\n",
    "    y_genuine = nd.zeros(total_sample_size)\n",
    "    count = 0\n",
    "    \n",
    "    # Iterate over the different identities\n",
    "    for i in range(1, 41):\n",
    "        # Generate total_sample_size // 40 samples per identity\n",
    "        for j in range(total_sample_size // 40):\n",
    "            # Make sure we aren'r reading the same images!\n",
    "            idx1, idx2 = nd.random.shuffle(nd.arange(1, 11))[:2]\n",
    "            idx1, idx2 = int(idx1.asscalar()), int(idx2.asscalar())\n",
    "            \n",
    "            # Read images and store them in the tensor\n",
    "            img1 = imread(os.path.join(DATA_PATH, f\"s{i}\", f\"{idx1}.pgm\"), transform)\n",
    "            img2 = imread(os.path.join(DATA_PATH, f\"s{i}\", f\"{idx2}.pgm\"), transform)\n",
    "            X_genuine[count, 0, :, :, :] = img1\n",
    "            X_genuine[count, 1, :, :, :] = img2\n",
    "            \n",
    "            count += 1\n",
    "    \n",
    "    #= Generating imposite pairs =#\n",
    "    # Now we generate a imposite tensor with shape [total_sample_size, size, channels, height, width]\n",
    "    X_imposite = nd.zeros_like(X_genuine)\n",
    "    y_imposite = nd.ones_like(y_genuine)\n",
    "    count = 0\n",
    "    # Instead of sampling images, this time we sample directories\n",
    "    for i in range(total_sample_size // 10):\n",
    "        for j in range(1, 11):\n",
    "            #  Make sure we are not in the same directory\n",
    "            idx1, idx2 = nd.random.shuffle(nd.arange(1, 41))[:2]\n",
    "            idx1, idx2 = int(idx1.asscalar()), int(idx2.asscalar())\n",
    "            \n",
    "            # Read images and store them in the tensor\n",
    "            img1 = imread(os.path.join(DATA_PATH, f\"s{idx1}\", f\"{j}.pgm\"), transform)\n",
    "            img2 = imread(os.path.join(DATA_PATH, f\"s{idx2}\", f\"{j}.pgm\"), transform)\n",
    "            X_imposite[count, 0, :, :, :] = img1\n",
    "            X_imposite[count, 1, :, :, :] = img2\n",
    "            \n",
    "            count += 1\n",
    "    \n",
    "    #= Generate and shuffle the dataset =#\n",
    "    random_idx = nd.random.shuffle(nd.arange(total_sample_size * 2))\n",
    "    X = nd.concatenate([X_genuine, X_imposite], axis=0)\n",
    "    y = nd.concatenate([y_genuine, y_imposite], axis=0)\n",
    "    \n",
    "    X = X[random_idx]\n",
    "    y = y[random_idx]\n",
    "    \n",
    "    return X, y"
   ]
  },
  {
   "cell_type": "markdown",
   "metadata": {},
   "source": [
    "We use `ToTensor`to prepare our image dataset to be fed into our siamese network. It reshape each image from `(height, width, channels)` shape to `(channels, height, width)`. Also it tranforms the image from bytes to float in the `[0, 1]` range. If you need more augmentations, you need to create a `Compose` transform."
   ]
  },
  {
   "cell_type": "code",
   "execution_count": 8,
   "metadata": {},
   "outputs": [],
   "source": [
    "transform = gdata.vision.transforms.ToTensor()"
   ]
  },
  {
   "cell_type": "markdown",
   "metadata": {},
   "source": [
    "Now we retrieve our data and split them into train and validation using the specified validation size. As we shuffled the dataset since we generated it, we can simply extract the first `SAMPLE_SIZE * VALID_SIZE` for validation and leave the rest for training."
   ]
  },
  {
   "cell_type": "code",
   "execution_count": 9,
   "metadata": {},
   "outputs": [
    {
     "name": "stdout",
     "output_type": "stream",
     "text": [
      "Training samples: 16000\n",
      "Validation samples: 4000\n"
     ]
    }
   ],
   "source": [
    "X, y = get_orl_faces(2, SAMPLE_SIZE // 2, transform)\n",
    "valid_index = int(SAMPLE_SIZE * VALID_SIZE)\n",
    "\n",
    "X_valid, y_valid = X[:valid_index], y[:valid_index]\n",
    "X_train, y_train = X[valid_index:], y[valid_index:]\n",
    "\n",
    "print(f\"Training samples: {X_train.shape[0]}\")\n",
    "print(f\"Validation samples: {X_valid.shape[0]}\")"
   ]
  },
  {
   "cell_type": "markdown",
   "metadata": {},
   "source": [
    "Now let's define a function to display such pairs!"
   ]
  },
  {
   "cell_type": "code",
   "execution_count": 10,
   "metadata": {},
   "outputs": [],
   "source": [
    "def display_pair(pair, label, dist=None):\n",
    "    fig, (left, right) = plt.subplots(nrows=1, ncols=2, figsize=(7, 3))\n",
    "    \n",
    "    imleft = pair[0, 0].asnumpy()\n",
    "    imright = pair[1, 0].asnumpy()\n",
    "    \n",
    "    left.imshow(imleft, cmap=\"gray\")\n",
    "    right.imshow(imright, cmap=\"gray\")\n",
    "    \n",
    "    title = \"Imposite\" if label else \"Genuine\"\n",
    "    if dist:\n",
    "        title += \" (predicted dissimilarity: {:.2f})\".format(dist)\n",
    "        \n",
    "    left.get_xaxis().set_visible(False)\n",
    "    left.get_yaxis().set_visible(False)\n",
    "    right.get_xaxis().set_visible(False)\n",
    "    right.get_yaxis().set_visible(False)\n",
    "    \n",
    "    fig.suptitle(title)"
   ]
  },
  {
   "cell_type": "code",
   "execution_count": 11,
   "metadata": {},
   "outputs": [
    {
     "data": {
      "image/png": "[encoded data removed]",
      "text/plain": [
       "<Figure size 504x216 with 2 Axes>"
      ]
     },
     "metadata": {
      "needs_background": "light"
     },
     "output_type": "display_data"
    }
   ],
   "source": [
    "display_pair(X_train[1], y_train[1])"
   ]
  },
  {
   "cell_type": "markdown",
   "metadata": {},
   "source": [
    "Now we can create our data iterators."
   ]
  },
  {
   "cell_type": "code",
   "execution_count": 12,
   "metadata": {},
   "outputs": [],
   "source": [
    "train_ds = gdata.ArrayDataset(X_train, y_train)\n",
    "valid_ds = gdata.ArrayDataset(X_valid, y_valid)\n",
    "\n",
    "train_iter = gdata.DataLoader(train_ds, batch_size=BATCH_SIZE, shuffle=True)\n",
    "valid_iter = gdata.DataLoader(valid_ds, batch_size=BATCH_SIZE, shuffle=False)"
   ]
  },
  {
   "cell_type": "markdown",
   "metadata": {},
   "source": [
    "## Defining the Energy Function\n",
    "\n",
    "This is our similarity function. In this case, we'll use the Euclidean distance, which is implemented in MXNet as the L2 norm. The parameter `F` is used during the network definition for hybridization."
   ]
  },
  {
   "cell_type": "code",
   "execution_count": 13,
   "metadata": {},
   "outputs": [],
   "source": [
    "def euclidean_distance(F, x1, x2):\n",
    "    return F.norm(x1 - x2, axis=1)"
   ]
  },
  {
   "cell_type": "markdown",
   "metadata": {},
   "source": [
    "## Defining the Contrastive Loss\n",
    "\n",
    "In the original paper from Hadsell, Chopra and LeCun <a href=\"http://yann.lecun.com/exdb/publis/pdf/hadsell-chopra-lecun-06.pdf\">available here</a>, the contrastive loss is defined as\n",
    "\n",
    "$$\n",
    "L = (1 - Y) \\frac{1}{2}(D_W)^2 + (Y)\\frac{1}{2} \\{ max(0, m - D_W) \\} ^2\n",
    "$$\n",
    "\n",
    "where $D_W$ is the Euclidean distance for the embeddings generated by our function $G_W$ for any two images $X_1, X_2$.\n",
    "\n",
    "$$\n",
    "D_W(X_1, X_2) = \\left\\| G_W(X_1) - G_W(X_2) \\right\\|_2\n",
    "$$\n",
    "\n",
    "and $m$ is a margin which limits the loss contribution of imposite pairs. Finally, we can extract the fractional part and calculate the average of the calculations for the batch:\n",
    "\n",
    "$$\n",
    "L = mean \\left( (1-Y) (D_W)^2 + (Y) \\{max(0, m - D_W)\\}^2 \\right)\n",
    "$$\n"
   ]
  },
  {
   "cell_type": "code",
   "execution_count": 14,
   "metadata": {},
   "outputs": [],
   "source": [
    "def contrastive_loss(Y, D, m):\n",
    "    losses = (1 - Y) * nd.square(D) + (Y) * nd.square(nd.maximum(0, m - D))\n",
    "    return nd.mean(losses)"
   ]
  },
  {
   "cell_type": "markdown",
   "metadata": {},
   "source": [
    "## Creating our Model"
   ]
  },
  {
   "cell_type": "markdown",
   "metadata": {},
   "source": [
    "A siamese network is defined as two network sharing the same weights generating a distance between their inputs as defined by the energy function $E$. We can have a single network generating the embedding for both images and then return the Euclidean distance as the network's output. The function $G_W$ can be any function capable of returning and embedding of the desired dimension. Here, we define as $G_W$ a small CNN network."
   ]
  },
  {
   "cell_type": "code",
   "execution_count": 15,
   "metadata": {},
   "outputs": [],
   "source": [
    "class SiameseNetwork(nn.HybridBlock):\n",
    "    def __init__(self, output, **kwargs):\n",
    "        super(SiameseNetwork, self).__init__(**kwargs)\n",
    "        self.inner = nn.HybridSequential()\n",
    "        self.inner.add(\n",
    "            nn.Conv2D(15, kernel_size=6, activation=\"relu\"),\n",
    "            nn.MaxPool2D(2, 2),\n",
    "            nn.Dropout(0.25),\n",
    "\n",
    "            nn.Conv2D(30, kernel_size=9, activation=\"relu\"),\n",
    "            nn.MaxPool2D(2, 2),\n",
    "            nn.Dropout(0.25),\n",
    "\n",
    "            nn.Flatten(),\n",
    "\n",
    "            nn.Dense(128, activation=\"relu\"),\n",
    "            nn.Dropout(0.1),\n",
    "            nn.Dense(output, activation=\"relu\")\n",
    "        )\n",
    "    def hybrid_forward(self, F, X1, X2):\n",
    "        x1 = self.inner(X1)\n",
    "        x2 = self.inner(X2)\n",
    "        dist = euclidean_distance(F, x1, x2)\n",
    "        \n",
    "        return dist\n",
    "        "
   ]
  },
  {
   "cell_type": "markdown",
   "metadata": {},
   "source": [
    "## Evaluation Functions\n",
    "This evaluation function calculates the average contrastive loss in a data iterator using the provided network and margin."
   ]
  },
  {
   "cell_type": "code",
   "execution_count": 16,
   "metadata": {},
   "outputs": [],
   "source": [
    "def evaluate(net, data_iter, margin, ctx):\n",
    "    losses = []\n",
    "    for X, y in data_iter:\n",
    "        X = X.as_in_context(ctx)\n",
    "        y = y.as_in_context(ctx)\n",
    "\n",
    "        dist = net(X[:, 0], X[:, 1])\n",
    "        \n",
    "        losses.append(contrastive_loss(y, dist, margin).asscalar())\n",
    "        \n",
    "    return sum(losses) / len(losses)"
   ]
  },
  {
   "cell_type": "markdown",
   "metadata": {},
   "source": [
    "## Training Function\n",
    "\n",
    "We are almost done! Now we need to define out training function."
   ]
  },
  {
   "cell_type": "code",
   "execution_count": 17,
   "metadata": {},
   "outputs": [],
   "source": [
    "def train_siamese_network(net, train_iter, val_iter, num_epochs, trainer, margin, log_frequency=20, ctx=try_gpu()):    \n",
    "    train_losses = []\n",
    "    train_metrics = {\n",
    "        \"valid_loss\": [],\n",
    "        \"train_loss\": [],\n",
    "    }\n",
    "    \n",
    "    for epoch in range(1, num_epochs + 1):\n",
    "        total_iters = len(train_iter)\n",
    "        for i, (X, y) in enumerate(train_iter):\n",
    "            X = X.as_in_context(ctx)\n",
    "            y = y.as_in_context(ctx)\n",
    "            with autograd.record():\n",
    "                dist = net(X[:, 0], X[:, 1])\n",
    "                l = contrastive_loss(y, dist, margin)\n",
    "\n",
    "            l.backward()\n",
    "            trainer.step(X.shape[0])\n",
    "            \n",
    "            if i % log_frequency == 0:\n",
    "                \"\"\"\n",
    "                # Output limited for space limitations.\n",
    "                print(\"Epoch {:3d}/{:3d} - [{:4d}/{:4d}]: Contrastive loss (train): {:.4f}\".format(\n",
    "                    epoch, num_epochs, i, total_iters, l.asscalar(),\n",
    "                ))\n",
    "                \"\"\"\n",
    "                train_losses.append(l.asscalar())\n",
    "        \n",
    "        #= Epoch metrics =#\n",
    "        valid_loss = evaluate(net, valid_iter, margin, ctx)\n",
    "        train_loss = evaluate(net, train_iter, margin, ctx)\n",
    "        \n",
    "        print()\n",
    "        print(\"========= EPOCH {:3d} =========\".format(epoch))\n",
    "        print(\"Epoch {:3d}/{:3d}: Contrastive Loss (train): {:.4f}\\tContrastive Loss (valid): {:.4f}\".format(\n",
    "            epoch, num_epochs, train_loss, valid_loss\n",
    "        ))\n",
    "        print(\"============================\")\n",
    "        print()\n",
    "        \n",
    "        train_metrics[\"valid_loss\"].append(valid_loss)\n",
    "        train_metrics[\"train_loss\"].append(train_loss)\n",
    "        \n",
    "    return train_losses, train_metrics"
   ]
  },
  {
   "cell_type": "markdown",
   "metadata": {},
   "source": [
    "## Training\n",
    "Now we instantiate and train our model! Let's use an output embedding vector of 32 elements and set the margin for contrastive loss to 1. "
   ]
  },
  {
   "cell_type": "code",
   "execution_count": 18,
   "metadata": {
    "scrolled": true
   },
   "outputs": [
    {
     "name": "stdout",
     "output_type": "stream",
     "text": [
      "\n",
      "========= EPOCH   1 =========\n",
      "Epoch   1/ 30: Contrastive Loss (train): 0.0536\tContrastive Loss (valid): 0.0542\n",
      "============================\n",
      "\n",
      "\n",
      "========= EPOCH   2 =========\n",
      "Epoch   2/ 30: Contrastive Loss (train): 0.0281\tContrastive Loss (valid): 0.0297\n",
      "============================\n",
      "\n",
      "\n",
      "========= EPOCH   3 =========\n",
      "Epoch   3/ 30: Contrastive Loss (train): 0.0205\tContrastive Loss (valid): 0.0224\n",
      "============================\n",
      "\n",
      "\n",
      "========= EPOCH   4 =========\n",
      "Epoch   4/ 30: Contrastive Loss (train): 0.0184\tContrastive Loss (valid): 0.0206\n",
      "============================\n",
      "\n",
      "\n",
      "========= EPOCH   5 =========\n",
      "Epoch   5/ 30: Contrastive Loss (train): 0.0140\tContrastive Loss (valid): 0.0162\n",
      "============================\n",
      "\n",
      "\n",
      "========= EPOCH   6 =========\n",
      "Epoch   6/ 30: Contrastive Loss (train): 0.0106\tContrastive Loss (valid): 0.0126\n",
      "============================\n",
      "\n",
      "\n",
      "========= EPOCH   7 =========\n",
      "Epoch   7/ 30: Contrastive Loss (train): 0.0076\tContrastive Loss (valid): 0.0099\n",
      "============================\n",
      "\n",
      "\n",
      "========= EPOCH   8 =========\n",
      "Epoch   8/ 30: Contrastive Loss (train): 0.0064\tContrastive Loss (valid): 0.0087\n",
      "============================\n",
      "\n",
      "\n",
      "========= EPOCH   9 =========\n",
      "Epoch   9/ 30: Contrastive Loss (train): 0.0069\tContrastive Loss (valid): 0.0089\n",
      "============================\n",
      "\n",
      "\n",
      "========= EPOCH  10 =========\n",
      "Epoch  10/ 30: Contrastive Loss (train): 0.0049\tContrastive Loss (valid): 0.0066\n",
      "============================\n",
      "\n",
      "\n",
      "========= EPOCH  11 =========\n",
      "Epoch  11/ 30: Contrastive Loss (train): 0.0042\tContrastive Loss (valid): 0.0059\n",
      "============================\n",
      "\n",
      "\n",
      "========= EPOCH  12 =========\n",
      "Epoch  12/ 30: Contrastive Loss (train): 0.0046\tContrastive Loss (valid): 0.0061\n",
      "============================\n",
      "\n",
      "\n",
      "========= EPOCH  13 =========\n",
      "Epoch  13/ 30: Contrastive Loss (train): 0.0036\tContrastive Loss (valid): 0.0051\n",
      "============================\n",
      "\n",
      "\n",
      "========= EPOCH  14 =========\n",
      "Epoch  14/ 30: Contrastive Loss (train): 0.0023\tContrastive Loss (valid): 0.0036\n",
      "============================\n",
      "\n",
      "\n",
      "========= EPOCH  15 =========\n",
      "Epoch  15/ 30: Contrastive Loss (train): 0.0021\tContrastive Loss (valid): 0.0033\n",
      "============================\n",
      "\n",
      "\n",
      "========= EPOCH  16 =========\n",
      "Epoch  16/ 30: Contrastive Loss (train): 0.0020\tContrastive Loss (valid): 0.0029\n",
      "============================\n",
      "\n",
      "\n",
      "========= EPOCH  17 =========\n",
      "Epoch  17/ 30: Contrastive Loss (train): 0.0017\tContrastive Loss (valid): 0.0023\n",
      "============================\n",
      "\n",
      "\n",
      "========= EPOCH  18 =========\n",
      "Epoch  18/ 30: Contrastive Loss (train): 0.0014\tContrastive Loss (valid): 0.0020\n",
      "============================\n",
      "\n",
      "\n",
      "========= EPOCH  19 =========\n",
      "Epoch  19/ 30: Contrastive Loss (train): 0.0012\tContrastive Loss (valid): 0.0019\n",
      "============================\n",
      "\n",
      "\n",
      "========= EPOCH  20 =========\n",
      "Epoch  20/ 30: Contrastive Loss (train): 0.0016\tContrastive Loss (valid): 0.0022\n",
      "============================\n",
      "\n",
      "\n",
      "========= EPOCH  21 =========\n",
      "Epoch  21/ 30: Contrastive Loss (train): 0.0012\tContrastive Loss (valid): 0.0017\n",
      "============================\n",
      "\n",
      "\n",
      "========= EPOCH  22 =========\n",
      "Epoch  22/ 30: Contrastive Loss (train): 0.0012\tContrastive Loss (valid): 0.0017\n",
      "============================\n",
      "\n",
      "\n",
      "========= EPOCH  23 =========\n",
      "Epoch  23/ 30: Contrastive Loss (train): 0.0028\tContrastive Loss (valid): 0.0037\n",
      "============================\n",
      "\n",
      "\n",
      "========= EPOCH  24 =========\n",
      "Epoch  24/ 30: Contrastive Loss (train): 0.0012\tContrastive Loss (valid): 0.0017\n",
      "============================\n",
      "\n",
      "\n",
      "========= EPOCH  25 =========\n",
      "Epoch  25/ 30: Contrastive Loss (train): 0.0009\tContrastive Loss (valid): 0.0014\n",
      "============================\n",
      "\n",
      "\n",
      "========= EPOCH  26 =========\n",
      "Epoch  26/ 30: Contrastive Loss (train): 0.0013\tContrastive Loss (valid): 0.0017\n",
      "============================\n",
      "\n",
      "\n",
      "========= EPOCH  27 =========\n",
      "Epoch  27/ 30: Contrastive Loss (train): 0.0010\tContrastive Loss (valid): 0.0015\n",
      "============================\n",
      "\n",
      "\n",
      "========= EPOCH  28 =========\n",
      "Epoch  28/ 30: Contrastive Loss (train): 0.0008\tContrastive Loss (valid): 0.0012\n",
      "============================\n",
      "\n",
      "\n",
      "========= EPOCH  29 =========\n",
      "Epoch  29/ 30: Contrastive Loss (train): 0.0009\tContrastive Loss (valid): 0.0013\n",
      "============================\n",
      "\n",
      "\n",
      "========= EPOCH  30 =========\n",
      "Epoch  30/ 30: Contrastive Loss (train): 0.0007\tContrastive Loss (valid): 0.0010\n",
      "============================\n",
      "\n"
     ]
    }
   ],
   "source": [
    "LR = 0.0005\n",
    "NUM_EPOCHS = 30\n",
    "MARGIN = 1\n",
    "net = SiameseNetwork(32)\n",
    "net.hybridize()\n",
    "net.initialize(init.Xavier(), ctx=try_gpu())\n",
    "\n",
    "trainer = gluon.Trainer(net.collect_params(), \"adam\", {\"learning_rate\": LR})\n",
    "\n",
    "train_metrics = train_siamese_network(net, train_iter, valid_iter, NUM_EPOCHS, trainer, MARGIN)"
   ]
  },
  {
   "cell_type": "markdown",
   "metadata": {},
   "source": [
    "## Evaluation\n",
    "\n",
    "First, we plot the loss decay as we train our network."
   ]
  },
  {
   "cell_type": "code",
   "execution_count": 19,
   "metadata": {},
   "outputs": [
    {
     "data": {
      "image/png": "[encoded data removed]",
      "text/plain": [
       "<Figure size 1008x432 with 2 Axes>"
      ]
     },
     "metadata": {
      "needs_background": "light"
     },
     "output_type": "display_data"
    }
   ],
   "source": [
    "fig, (train, valid) = plt.subplots(nrows=1, ncols=2, figsize=(14, 6))\n",
    "\n",
    "fig.suptitle(\"Siamese network Training\")\n",
    "\n",
    "train.plot(train_metrics[0], label=\"Train\")\n",
    "train.set_ylabel(\"Contrastive-loss\")\n",
    "train.set_xlabel(\"Batch\")\n",
    "train.legend()\n",
    "\n",
    "valid.plot(train_metrics[1][\"train_loss\"], label=\"Loss (Train)\", alpha=0.8)\n",
    "valid.plot(train_metrics[1][\"valid_loss\"], label=\"Loss (Validation)\", alpha=0.8)\n",
    "\n",
    "valid.set_xlabel(\"Epoch\")\n",
    "valid.legend();"
   ]
  },
  {
   "cell_type": "markdown",
   "metadata": {},
   "source": [
    "Now we can use our siamese network to evaluate any pair of faces and measure its similarity! (remember the covariance shift, though). Let's define a function to evaluate how good our network is for discriminating similar faces!"
   ]
  },
  {
   "cell_type": "code",
   "execution_count": 20,
   "metadata": {},
   "outputs": [],
   "source": [
    "def compute_accuracy(y, y_pred, threshold):\n",
    "    mask = y_pred.asnumpy().ravel() < threshold\n",
    "\n",
    "    if not any(mask):\n",
    "        return 0\n",
    "    \n",
    "    return 1 - y.asnumpy()[mask].mean()"
   ]
  },
  {
   "cell_type": "markdown",
   "metadata": {},
   "source": [
    "Let's review our validation accuracy!"
   ]
  },
  {
   "cell_type": "code",
   "execution_count": 21,
   "metadata": {},
   "outputs": [
    {
     "data": {
      "text/plain": [
       "1.0"
      ]
     },
     "execution_count": 21,
     "metadata": {},
     "output_type": "execute_result"
    }
   ],
   "source": [
    "accs = []\n",
    "\n",
    "for X, y in valid_iter:\n",
    "    X = X.as_in_context(try_gpu())\n",
    "    y = y.as_in_context(try_gpu())\n",
    "    \n",
    "    dists = net(X[:, 0], X[:, 1])\n",
    "    \n",
    "    accs.append(compute_accuracy(y, dists, 0.05))\n",
    "\n",
    "sum(accs) / len(accs)"
   ]
  },
  {
   "cell_type": "markdown",
   "metadata": {},
   "source": [
    "## Making predictions\n",
    "\n",
    "Now our model is trained and we can use it to make predictions. We need to pass it a pair of images and it will return the similarity (the lower it is, the more similar the faces are)"
   ]
  },
  {
   "cell_type": "code",
   "execution_count": 22,
   "metadata": {},
   "outputs": [],
   "source": [
    "X, y = valid_ds[:3]\n",
    "X = X.as_in_context(try_gpu())\n",
    "D = net(X[:, 0], X[:, 1])\n"
   ]
  },
  {
   "cell_type": "code",
   "execution_count": 23,
   "metadata": {},
   "outputs": [
    {
     "data": {
      "image/png": "[encoded data removed]",
      "text/plain": [
       "<Figure size 504x216 with 2 Axes>"
      ]
     },
     "metadata": {
      "needs_background": "light"
     },
     "output_type": "display_data"
    }
   ],
   "source": [
    "for i in range(1):\n",
    "    display_pair(X[i], y[i], D[i].asscalar())"
   ]
  },
  {
   "cell_type": "markdown",
   "metadata": {},
   "source": [
    "Now store the model for future usage."
   ]
  },
  {
   "cell_type": "code",
   "execution_count": 24,
   "metadata": {},
   "outputs": [],
   "source": [
    "models_path = os.path.join(\"models\", \"miniorl\")\n",
    "if not os.path.exists(models_path):\n",
    "    os.makedirs(models_path)\n",
    "    \n",
    "net.export(\"models/miniorl/miniorl\")"
   ]
  },
  {
   "cell_type": "code",
   "execution_count": null,
   "metadata": {},
   "outputs": [],
   "source": []
  }
 ],
 "metadata": {
  "kernelspec": {
   "display_name": "Python 3",
   "language": "python",
   "name": "python3"
  },
  "language_info": {
   "codemirror_mode": {
    "name": "ipython",
    "version": 3
   },
   "file_extension": ".py",
   "mimetype": "text/x-python",
   "name": "python",
   "nbconvert_exporter": "python",
   "pygments_lexer": "ipython3",
   "version": "3.7.3"
  }
 },
 "nbformat": 4,
 "nbformat_minor": 2
}
